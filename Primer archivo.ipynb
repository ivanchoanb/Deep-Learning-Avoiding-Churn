{
 "cells": [
  {
   "cell_type": "markdown",
   "metadata": {},
   "source": [
    "# Descargar Dataset"
   ]
  },
  {
   "cell_type": "markdown",
   "metadata": {},
   "source": [
    "URL: https://www.kaggle.com/datasets/blastchar/telco-customer-churn"
   ]
  },
  {
   "cell_type": "code",
   "execution_count": null,
   "metadata": {},
   "outputs": [],
   "source": [
    "#Corremos la instalacion para los que corren en maquina personalizada dentro del terminal y sino solo el codigo en un google colab\n",
    "#!pip install kaggle"
   ]
  },
  {
   "cell_type": "code",
   "execution_count": null,
   "metadata": {},
   "outputs": [],
   "source": [
    "import json\n",
    "#Usando with open \n",
    "with open('kaggle.json', 'r') as archivo:\n",
    "    credenciales = json.load(archivo)"
   ]
  },
  {
   "cell_type": "code",
   "execution_count": null,
   "metadata": {},
   "outputs": [],
   "source": [
    "# El siguiente es el scrip sistematizado para evitar entrar con condigo a la terminal.\n",
    "\n",
    "import os\n",
    "import shutil\n",
    "\n",
    "# Crear el directorio\n",
    "os.makedirs(os.path.expanduser('~/.kaggle'), exist_ok=True)\n",
    "\n",
    "# Copiar el archivo\n",
    "shutil.copy('kaggle.json', os.path.expanduser('~/.kaggle/'))\n",
    "\n",
    "# Cambiar los permisos\n",
    "os.chmod(os.path.expanduser('~/.kaggle/kaggle.json'), 0o600)"
   ]
  },
  {
   "cell_type": "code",
   "execution_count": null,
   "metadata": {},
   "outputs": [
    {
     "name": "stdout",
     "output_type": "stream",
     "text": [
      "ref                                                      title                                       size  lastUpdated          downloadCount  voteCount  usabilityRating  \n",
      "-------------------------------------------------------  -----------------------------------------  -----  -------------------  -------------  ---------  ---------------  \n",
      "blastchar/telco-customer-churn                           Telco Customer Churn                       172KB  2018-02-23 18:20:00         311643       2935  0.88235295       \n",
      "barun2104/telecom-churn                                  Customer Churn                              45KB  2020-03-23 16:30:13          14985        145  0.9411765        \n",
      "radheshyamkollipara/bank-customer-churn                  Bank Customer Churn                        307KB  2023-04-28 16:32:01          21039        189  1.0              \n",
      "muhammadshahidazeem/customer-churn-dataset               Customer Churn Dataset                       7MB  2023-06-14 11:16:49          13864        119  1.0              \n",
      "gauravtopre/bank-customer-churn-dataset                  Bank Customer Churn Dataset                187KB  2022-08-30 15:01:34          26396        190  1.0              \n",
      "shubhammeshram579/bank-customer-churn-prediction         Bank Customer Churn Prediction             262KB  2023-04-27 07:12:58           8134        102  1.0              \n",
      "shantanudhakadd/bank-customer-churn-prediction           Bank Customer Churn Prediction             262KB  2022-03-19 04:05:12          12996        109  0.9705882        \n",
      "anandshaw2001/customer-churn-dataset                     Customer Churn Dataset                     262KB  2024-04-09 18:41:58           2594         45  1.0              \n",
      "rashadrmammadov/customer-churn-dataset                   Customer Churn Prediction                  119KB  2024-05-29 12:22:58           2086         40  1.0              \n",
      "saurabhbadole/bank-customer-churn-prediction-dataset     Banking Customer Churn Prediction Dataset  262KB  2024-05-16 18:33:25           4587        138  1.0              \n",
      "mathchi/churn-for-bank-customers                         Churn for Bank Customers                   261KB  2020-07-25 06:13:14          16964        185  1.0              \n",
      "divu2001/customer-churn-rate                             Customer Churn Rate                        262KB  2024-03-30 11:15:02            863         35  1.0              \n",
      "abdullah0a/telecom-customer-churn-insights-for-analysis   Customer Churn Prediction:Analysis         15KB  2024-09-14 07:04:28           1857         30  1.0              \n",
      "santoshd3/bank-customers                                 Bank Customers Churn                       262KB  2018-07-09 09:06:39          13943        141  0.9705882        \n",
      "abdallahwagih/telco-customer-churn                       Telco Customer Churn                         1MB  2024-10-11 05:27:55           1281         39  0.88235295       \n",
      "alfathterry/telco-customer-churn-11-1-3                  Telco customer churn (11.1.3+)             513KB  2024-05-08 20:46:56           2457         48  1.0              \n",
      "mehmetsabrikunt/internet-service-churn                   Internet Service Provider Customer Churn   764KB  2021-09-10 20:03:52           4188         74  1.0              \n",
      "shilongzhuang/telecom-customer-churn-by-maven-analytics  🙁📡 Telecom Customer Churn Prediction       434KB  2022-07-06 02:27:34          14194        108  1.0              \n",
      "tejashvi14/tour-travels-customer-churn-prediction        Tour & Travels Customer Churn Prediction     3KB  2021-10-31 04:33:51           5136         72  1.0              \n",
      "yeanzc/telco-customer-churn-ibm-dataset                  Telco customer churn: IBM dataset            1MB  2020-12-07 09:22:41          15483        101  0.7647059        \n"
     ]
    }
   ],
   "source": [
    "# Nos data la referencia de la busqueda que le daremos, que es \"customer-churn\"\n",
    "!kaggle datasets list -s customer-churn"
   ]
  },
  {
   "cell_type": "code",
   "execution_count": null,
   "metadata": {},
   "outputs": [
    {
     "name": "stdout",
     "output_type": "stream",
     "text": [
      "Dataset URL: https://www.kaggle.com/datasets/blastchar/telco-customer-churn\n",
      "License(s): copyright-authors\n",
      "Downloading telco-customer-churn.zip to c:\\Users\\AlexisBenitez\\Downloads\n",
      "\n"
     ]
    },
    {
     "name": "stderr",
     "output_type": "stream",
     "text": [
      "\n",
      "  0%|          | 0.00/172k [00:00<?, ?B/s]\n",
      "100%|██████████| 172k/172k [00:00<00:00, 873kB/s]\n",
      "100%|██████████| 172k/172k [00:00<00:00, 868kB/s]\n"
     ]
    }
   ],
   "source": [
    "# Cargamos el primer dataset que esta en la lista visulizada previamente\n",
    "!kaggle datasets download -d blastchar/telco-customer-churn"
   ]
  },
  {
   "cell_type": "code",
   "execution_count": null,
   "metadata": {},
   "outputs": [],
   "source": [
    "import zipfile\n",
    "\n",
    "#Usando zipfile\n",
    "# Para un solo archivo\n",
    "\n",
    "with zipfile.ZipFile('telco-customer-churn.zip', 'r') as zip_ref:\n",
    "    # Por en directorio deseado o se descargara en el prestablecido de tu maquina\n",
    "    zip_ref.extractall()"
   ]
  },
  {
   "cell_type": "code",
   "execution_count": null,
   "metadata": {},
   "outputs": [],
   "source": [
    "# Intalamos tensorflow para manejar nuestros datos.\n",
    "    # Yo lo hago directo en la terminal - Se puede hacer cada vez que se corre el codigo\n",
    "\n",
    "# !pip install tensorflow"
   ]
  }
 ],
 "metadata": {
  "kernelspec": {
   "display_name": "Python 3",
   "language": "python",
   "name": "python3"
  },
  "language_info": {
   "codemirror_mode": {
    "name": "ipython",
    "version": 3
   },
   "file_extension": ".py",
   "mimetype": "text/x-python",
   "name": "python",
   "nbconvert_exporter": "python",
   "pygments_lexer": "ipython3",
   "version": "3.12.6"
  }
 },
 "nbformat": 4,
 "nbformat_minor": 2
}
